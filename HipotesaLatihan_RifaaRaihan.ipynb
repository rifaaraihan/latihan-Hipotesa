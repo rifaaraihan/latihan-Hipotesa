{
  "nbformat": 4,
  "nbformat_minor": 0,
  "metadata": {
    "colab": {
      "name": "HipotesaLatihan-RifaaRaihan.ipynb",
      "provenance": []
    },
    "kernelspec": {
      "name": "python3",
      "display_name": "Python 3"
    },
    "language_info": {
      "name": "python"
    }
  },
  "cells": [
    {
      "cell_type": "markdown",
      "source": [
        "# Latihan \n",
        "\n",
        "Misalkan kamu adalah data scientist di gojek. Kamu ingin mengetahui apakah kemacetan mempengaruhi tingkat kepuasan pelanngan.\n",
        "\n",
        "Kamu diminta unutk membandingkna nilai \"bintang\" dari customer setalah dia order\n",
        "\n",
        "macet = [2, 3, 5, 4, 4, 2, 2, 2]\n",
        "tidak macet = [ 4 , 3, 5, 4 , 4, 5,5]\n",
        "\n",
        "Tugas\n",
        "1. Buat hipotesa\n",
        "2. Lakukan uji asumis normaltias\n",
        "3. Jika datanya normal, lakukan uji paramterik\n",
        "4. jika datanya tidak nrmal lakukan uji non parametrik\n",
        "5. kesimpulan?"
      ],
      "metadata": {
        "id": "WkiS69iXBTwV"
      }
    },
    {
      "cell_type": "code",
      "source": [
        "# import library\n",
        "\n",
        "import matplotlib.pyplot as plt\n",
        "import pandas as pd\n",
        "import seaborn as sns\n",
        "import numpy as np\n",
        "from scipy import stats"
      ],
      "metadata": {
        "id": "-GrwY-Rej5ny"
      },
      "execution_count": null,
      "outputs": []
    },
    {
      "cell_type": "markdown",
      "source": [
        "#Mendefenisikan nillai menjadi Array"
      ],
      "metadata": {
        "id": "EO5-ZzuUsWY2"
      }
    },
    {
      "cell_type": "code",
      "source": [
        "macet       = np.array  ([2, 3, 5, 4, 4, 2, 2, 2])\n",
        "tidakMacet = np.array  ([ 4 , 3, 5, 4 , 4, 5, 5])"
      ],
      "metadata": {
        "id": "Nyq6at1mjuhZ"
      },
      "execution_count": null,
      "outputs": []
    },
    {
      "cell_type": "markdown",
      "source": [
        "Uji Normalitas\n",
        "\n",
        "Ho =  Data berdistribusi normal\n",
        "\n",
        "Ha = data tidak berdistribusi normal"
      ],
      "metadata": {
        "id": "qDqEPBA2lriM"
      }
    },
    {
      "cell_type": "code",
      "source": [
        "# Dengan Histogram saat keadaan macet\n",
        "sns.distplot(macet)"
      ],
      "metadata": {
        "colab": {
          "base_uri": "https://localhost:8080/",
          "height": 337
        },
        "id": "918q0ymKlok7",
        "outputId": "150485b2-72b9-4daf-cb17-465c758a02e9"
      },
      "execution_count": null,
      "outputs": [
        {
          "output_type": "stream",
          "name": "stderr",
          "text": [
            "/usr/local/lib/python3.7/dist-packages/seaborn/distributions.py:2619: FutureWarning: `distplot` is a deprecated function and will be removed in a future version. Please adapt your code to use either `displot` (a figure-level function with similar flexibility) or `histplot` (an axes-level function for histograms).\n",
            "  warnings.warn(msg, FutureWarning)\n"
          ]
        },
        {
          "output_type": "execute_result",
          "data": {
            "text/plain": [
              "<matplotlib.axes._subplots.AxesSubplot at 0x7f6ce61a9690>"
            ]
          },
          "metadata": {},
          "execution_count": 6
        },
        {
          "output_type": "display_data",
          "data": {
            "image/png": "[encoded data removed]",
            "text/plain": [
              "<Figure size 432x288 with 1 Axes>"
            ]
          },
          "metadata": {
            "needs_background": "light"
          }
        }
      ]
    },
    {
      "cell_type": "code",
      "source": [
        "#Dengan Histogram saat kedaan tidak macet\n",
        "sns.distplot(tidakMacet)"
      ],
      "metadata": {
        "colab": {
          "base_uri": "https://localhost:8080/",
          "height": 341
        },
        "id": "TVJN_MSpl9p_",
        "outputId": "82d7a034-de98-4beb-8dc1-53ede76624f9"
      },
      "execution_count": null,
      "outputs": [
        {
          "output_type": "stream",
          "name": "stderr",
          "text": [
            "/usr/local/lib/python3.7/dist-packages/seaborn/distributions.py:2619: FutureWarning: `distplot` is a deprecated function and will be removed in a future version. Please adapt your code to use either `displot` (a figure-level function with similar flexibility) or `histplot` (an axes-level function for histograms).\n",
            "  warnings.warn(msg, FutureWarning)\n"
          ]
        },
        {
          "output_type": "execute_result",
          "data": {
            "text/plain": [
              "<matplotlib.axes._subplots.AxesSubplot at 0x7f6ce594c4d0>"
            ]
          },
          "metadata": {},
          "execution_count": 20
        },
        {
          "output_type": "display_data",
          "data": {
            "image/png": "[encoded data removed]",
            "text/plain": [
              "<Figure size 432x288 with 1 Axes>"
            ]
          },
          "metadata": {
            "needs_background": "light"
          }
        }
      ]
    },
    {
      "cell_type": "markdown",
      "source": [
        "Berdasarkan data diatas. Data tersebut berada di tengah yang menandakan data tersebut normal."
      ],
      "metadata": {
        "id": "48RcfHKmsTGB"
      }
    },
    {
      "cell_type": "code",
      "source": [
        "#UJI KOLMOGORV-SMIRNOV -> MENENTUKAN APAKAH DATA INI BERDISTRIBUSI NORMAL ATAU TIDAK\n",
        "\n",
        "z_score_macet = stats.zscore(macet)\n",
        "z_score_tidakMacet = stats.zscore(tidakMacet)"
      ],
      "metadata": {
        "id": "VrfYFqYMmOpI"
      },
      "execution_count": 25,
      "outputs": []
    },
    {
      "cell_type": "code",
      "source": [
        "print(\"Stats of data macet \", stats.kstest(z_score_macet, \"norm\"))\n",
        "print(\"Stats of data tidakMacet \", stats.kstest(z_score_tidakMacet, \"norm\"))"
      ],
      "metadata": {
        "colab": {
          "base_uri": "https://localhost:8080/"
        },
        "id": "ZBu8zfSdmZjJ",
        "outputId": "553072e9-c3fe-44f9-d3cd-2c5c785c3502"
      },
      "execution_count": 26,
      "outputs": [
        {
          "output_type": "stream",
          "name": "stdout",
          "text": [
            "Stats of data macet  KstestResult(statistic=0.3144533152386512, pvalue=0.3355485604492315)\n",
            "Stats of data tidakMacet  KstestResult(statistic=0.2748543456077309, pvalue=0.584195880026095)\n"
          ]
        }
      ]
    },
    {
      "cell_type": "markdown",
      "source": [
        "Jika p-value > 0.05, maka Ho Diterima, data berdistribusi normal\n",
        "\n",
        "jika maka sebaliknyaJika p-value > 0.05, maka Ho Diterima, data berdistribusi normal\n",
        "\n",
        "jika maka sebaliknya"
      ],
      "metadata": {
        "id": "UIh3sAy-mz8D"
      }
    },
    {
      "cell_type": "markdown",
      "source": [
        "#Paired Sample - Test (Paramterik)\n",
        "Ho = Tidak ada perbedaan yang signifikan\n",
        "\n",
        "ha = Ada perbedaan"
      ],
      "metadata": {
        "id": "Sxqf2hfRnLCJ"
      }
    },
    {
      "cell_type": "code",
      "source": [
        "len(tidakMacet)"
      ],
      "metadata": {
        "colab": {
          "base_uri": "https://localhost:8080/"
        },
        "id": "WLr3wmn3nNKz",
        "outputId": "4a119c46-afff-4fce-fef4-84308011e1ec"
      },
      "execution_count": null,
      "outputs": [
        {
          "output_type": "execute_result",
          "data": {
            "text/plain": [
              "7"
            ]
          },
          "metadata": {},
          "execution_count": 22
        }
      ]
    },
    {
      "cell_type": "code",
      "source": [
        "len(macet)"
      ],
      "metadata": {
        "colab": {
          "base_uri": "https://localhost:8080/"
        },
        "id": "Dem96cdsr2IT",
        "outputId": "f42a6ea5-b249-446e-d764-573c25d12746"
      },
      "execution_count": null,
      "outputs": [
        {
          "output_type": "execute_result",
          "data": {
            "text/plain": [
              "8"
            ]
          },
          "metadata": {},
          "execution_count": 24
        }
      ]
    },
    {
      "cell_type": "markdown",
      "source": [
        "#Kesimpulan\n",
        "\n",
        "## Dapat Disimpulkan bahwa keadaan macet dapat mempengaruhi tingkat kepuasaan pelanggan atau pengguna dalam menggunakan aplikasi gojek"
      ],
      "metadata": {
        "id": "QQFJW5Dzr5ce"
      }
    }
  ]
}